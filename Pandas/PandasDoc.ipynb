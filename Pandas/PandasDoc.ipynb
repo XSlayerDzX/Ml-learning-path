{
 "cells": [
  {
   "metadata": {},
   "cell_type": "markdown",
   "source": "### Pandas NoteBook Made By Abdelmalek Hissous",
   "id": "33d436c388f4e8be"
  },
  {
   "metadata": {
    "ExecuteTime": {
     "end_time": "2025-05-25T21:29:20.159299Z",
     "start_time": "2025-05-25T21:29:19.216729Z"
    }
   },
   "cell_type": "code",
   "source": [
    "# Import The Library\n",
    "import pandas as pd"
   ],
   "id": "7052565ea7010336",
   "outputs": [],
   "execution_count": 1
  },
  {
   "metadata": {},
   "cell_type": "markdown",
   "source": "### DataFrames",
   "id": "4af4cee4e26d2ce4"
  },
  {
   "metadata": {
    "ExecuteTime": {
     "end_time": "2025-05-25T21:33:19.725709Z",
     "start_time": "2025-05-25T21:33:19.703135Z"
    }
   },
   "cell_type": "code",
   "source": [
    "# Creating a DataFrame\n",
    "pd.DataFrame({'a':[1,2,3], 'b':[4,5,6]})"
   ],
   "id": "78675898c2ea1c01",
   "outputs": [
    {
     "data": {
      "text/plain": [
       "   a  b\n",
       "0  1  4\n",
       "1  2  5\n",
       "2  3  6"
      ],
      "text/html": [
       "<div>\n",
       "<style scoped>\n",
       "    .dataframe tbody tr th:only-of-type {\n",
       "        vertical-align: middle;\n",
       "    }\n",
       "\n",
       "    .dataframe tbody tr th {\n",
       "        vertical-align: top;\n",
       "    }\n",
       "\n",
       "    .dataframe thead th {\n",
       "        text-align: right;\n",
       "    }\n",
       "</style>\n",
       "<table border=\"1\" class=\"dataframe\">\n",
       "  <thead>\n",
       "    <tr style=\"text-align: right;\">\n",
       "      <th></th>\n",
       "      <th>a</th>\n",
       "      <th>b</th>\n",
       "    </tr>\n",
       "  </thead>\n",
       "  <tbody>\n",
       "    <tr>\n",
       "      <th>0</th>\n",
       "      <td>1</td>\n",
       "      <td>4</td>\n",
       "    </tr>\n",
       "    <tr>\n",
       "      <th>1</th>\n",
       "      <td>2</td>\n",
       "      <td>5</td>\n",
       "    </tr>\n",
       "    <tr>\n",
       "      <th>2</th>\n",
       "      <td>3</td>\n",
       "      <td>6</td>\n",
       "    </tr>\n",
       "  </tbody>\n",
       "</table>\n",
       "</div>"
      ]
     },
     "execution_count": 3,
     "metadata": {},
     "output_type": "execute_result"
    }
   ],
   "execution_count": 3
  },
  {
   "metadata": {
    "ExecuteTime": {
     "end_time": "2025-05-25T21:36:51.449443Z",
     "start_time": "2025-05-25T21:36:51.442793Z"
    }
   },
   "cell_type": "code",
   "source": [
    "# Changing the Index of rows to a custom one\n",
    "pd.DataFrame({'a':[1,2,3], 'b':[4,5,6]},index=['Hello','There','Malek'])"
   ],
   "id": "3b2712e7af77075e",
   "outputs": [
    {
     "data": {
      "text/plain": [
       "       a  b\n",
       "Hello  1  4\n",
       "There  2  5\n",
       "Malek  3  6"
      ],
      "text/html": [
       "<div>\n",
       "<style scoped>\n",
       "    .dataframe tbody tr th:only-of-type {\n",
       "        vertical-align: middle;\n",
       "    }\n",
       "\n",
       "    .dataframe tbody tr th {\n",
       "        vertical-align: top;\n",
       "    }\n",
       "\n",
       "    .dataframe thead th {\n",
       "        text-align: right;\n",
       "    }\n",
       "</style>\n",
       "<table border=\"1\" class=\"dataframe\">\n",
       "  <thead>\n",
       "    <tr style=\"text-align: right;\">\n",
       "      <th></th>\n",
       "      <th>a</th>\n",
       "      <th>b</th>\n",
       "    </tr>\n",
       "  </thead>\n",
       "  <tbody>\n",
       "    <tr>\n",
       "      <th>Hello</th>\n",
       "      <td>1</td>\n",
       "      <td>4</td>\n",
       "    </tr>\n",
       "    <tr>\n",
       "      <th>There</th>\n",
       "      <td>2</td>\n",
       "      <td>5</td>\n",
       "    </tr>\n",
       "    <tr>\n",
       "      <th>Malek</th>\n",
       "      <td>3</td>\n",
       "      <td>6</td>\n",
       "    </tr>\n",
       "  </tbody>\n",
       "</table>\n",
       "</div>"
      ]
     },
     "execution_count": 4,
     "metadata": {},
     "output_type": "execute_result"
    }
   ],
   "execution_count": 4
  },
  {
   "metadata": {},
   "cell_type": "markdown",
   "source": "### Series",
   "id": "e0c90b4e5407c02c"
  },
  {
   "metadata": {
    "ExecuteTime": {
     "end_time": "2025-05-25T21:39:50.325043Z",
     "start_time": "2025-05-25T21:39:50.320079Z"
    }
   },
   "cell_type": "code",
   "source": [
    "# Series is just a list\n",
    "pd.Series([1,2,3])"
   ],
   "id": "a8d3dc6ad3f709f7",
   "outputs": [
    {
     "data": {
      "text/plain": [
       "0    1\n",
       "1    2\n",
       "2    3\n",
       "dtype: int64"
      ]
     },
     "execution_count": 5,
     "metadata": {},
     "output_type": "execute_result"
    }
   ],
   "execution_count": 5
  },
  {
   "metadata": {
    "ExecuteTime": {
     "end_time": "2025-05-25T21:40:37.734591Z",
     "start_time": "2025-05-25T21:40:37.729321Z"
    }
   },
   "cell_type": "code",
   "source": [
    "# Changing Index and Name\n",
    "pd.Series([4,5,6],index=['Sales1','Sales2','Sales3'],name='Xbox')"
   ],
   "id": "a29599aec90aee90",
   "outputs": [
    {
     "data": {
      "text/plain": [
       "Sales1    4\n",
       "Sales2    5\n",
       "Sales3    6\n",
       "Name: Xbox, dtype: int64"
      ]
     },
     "execution_count": 6,
     "metadata": {},
     "output_type": "execute_result"
    }
   ],
   "execution_count": 6
  },
  {
   "metadata": {
    "ExecuteTime": {
     "end_time": "2025-05-25T21:54:33.478135Z",
     "start_time": "2025-05-25T21:54:33.067745Z"
    }
   },
   "cell_type": "code",
   "source": [
    "# Reading CSV Files\n",
    "File = pd.read_csv('../Pandas/openpowerlifting.csv')\n",
    "File.head() # Display first 5 rows"
   ],
   "id": "a1b23b360a250be3",
   "outputs": [
    {
     "data": {
      "text/plain": [
       "   MeetID              Name Sex   Equipment   Age     Division  BodyweightKg  \\\n",
       "0       0  Angie Belk Terry   F       Wraps  47.0    Mst 45-49         59.60   \n",
       "1       0       Dawn Bogart   F  Single-ply  42.0    Mst 40-44         58.51   \n",
       "2       0       Dawn Bogart   F  Single-ply  42.0  Open Senior         58.51   \n",
       "3       0       Dawn Bogart   F         Raw  42.0  Open Senior         58.51   \n",
       "4       0      Destiny Dula   F         Raw  18.0   Teen 18-19         63.68   \n",
       "\n",
       "  WeightClassKg  Squat4Kg  BestSquatKg  Bench4Kg  BestBenchKg  Deadlift4Kg  \\\n",
       "0            60       NaN        47.63       NaN        20.41          NaN   \n",
       "1            60       NaN       142.88       NaN        95.25          NaN   \n",
       "2            60       NaN       142.88       NaN        95.25          NaN   \n",
       "3            60       NaN          NaN       NaN        95.25          NaN   \n",
       "4          67.5       NaN          NaN       NaN        31.75          NaN   \n",
       "\n",
       "   BestDeadliftKg  TotalKg Place   Wilks  \n",
       "0           70.31   138.35     1  155.05  \n",
       "1          163.29   401.42     1  456.38  \n",
       "2          163.29   401.42     1  456.38  \n",
       "3             NaN    95.25     1  108.29  \n",
       "4           90.72   122.47     1  130.47  "
      ],
      "text/html": [
       "<div>\n",
       "<style scoped>\n",
       "    .dataframe tbody tr th:only-of-type {\n",
       "        vertical-align: middle;\n",
       "    }\n",
       "\n",
       "    .dataframe tbody tr th {\n",
       "        vertical-align: top;\n",
       "    }\n",
       "\n",
       "    .dataframe thead th {\n",
       "        text-align: right;\n",
       "    }\n",
       "</style>\n",
       "<table border=\"1\" class=\"dataframe\">\n",
       "  <thead>\n",
       "    <tr style=\"text-align: right;\">\n",
       "      <th></th>\n",
       "      <th>MeetID</th>\n",
       "      <th>Name</th>\n",
       "      <th>Sex</th>\n",
       "      <th>Equipment</th>\n",
       "      <th>Age</th>\n",
       "      <th>Division</th>\n",
       "      <th>BodyweightKg</th>\n",
       "      <th>WeightClassKg</th>\n",
       "      <th>Squat4Kg</th>\n",
       "      <th>BestSquatKg</th>\n",
       "      <th>Bench4Kg</th>\n",
       "      <th>BestBenchKg</th>\n",
       "      <th>Deadlift4Kg</th>\n",
       "      <th>BestDeadliftKg</th>\n",
       "      <th>TotalKg</th>\n",
       "      <th>Place</th>\n",
       "      <th>Wilks</th>\n",
       "    </tr>\n",
       "  </thead>\n",
       "  <tbody>\n",
       "    <tr>\n",
       "      <th>0</th>\n",
       "      <td>0</td>\n",
       "      <td>Angie Belk Terry</td>\n",
       "      <td>F</td>\n",
       "      <td>Wraps</td>\n",
       "      <td>47.0</td>\n",
       "      <td>Mst 45-49</td>\n",
       "      <td>59.60</td>\n",
       "      <td>60</td>\n",
       "      <td>NaN</td>\n",
       "      <td>47.63</td>\n",
       "      <td>NaN</td>\n",
       "      <td>20.41</td>\n",
       "      <td>NaN</td>\n",
       "      <td>70.31</td>\n",
       "      <td>138.35</td>\n",
       "      <td>1</td>\n",
       "      <td>155.05</td>\n",
       "    </tr>\n",
       "    <tr>\n",
       "      <th>1</th>\n",
       "      <td>0</td>\n",
       "      <td>Dawn Bogart</td>\n",
       "      <td>F</td>\n",
       "      <td>Single-ply</td>\n",
       "      <td>42.0</td>\n",
       "      <td>Mst 40-44</td>\n",
       "      <td>58.51</td>\n",
       "      <td>60</td>\n",
       "      <td>NaN</td>\n",
       "      <td>142.88</td>\n",
       "      <td>NaN</td>\n",
       "      <td>95.25</td>\n",
       "      <td>NaN</td>\n",
       "      <td>163.29</td>\n",
       "      <td>401.42</td>\n",
       "      <td>1</td>\n",
       "      <td>456.38</td>\n",
       "    </tr>\n",
       "    <tr>\n",
       "      <th>2</th>\n",
       "      <td>0</td>\n",
       "      <td>Dawn Bogart</td>\n",
       "      <td>F</td>\n",
       "      <td>Single-ply</td>\n",
       "      <td>42.0</td>\n",
       "      <td>Open Senior</td>\n",
       "      <td>58.51</td>\n",
       "      <td>60</td>\n",
       "      <td>NaN</td>\n",
       "      <td>142.88</td>\n",
       "      <td>NaN</td>\n",
       "      <td>95.25</td>\n",
       "      <td>NaN</td>\n",
       "      <td>163.29</td>\n",
       "      <td>401.42</td>\n",
       "      <td>1</td>\n",
       "      <td>456.38</td>\n",
       "    </tr>\n",
       "    <tr>\n",
       "      <th>3</th>\n",
       "      <td>0</td>\n",
       "      <td>Dawn Bogart</td>\n",
       "      <td>F</td>\n",
       "      <td>Raw</td>\n",
       "      <td>42.0</td>\n",
       "      <td>Open Senior</td>\n",
       "      <td>58.51</td>\n",
       "      <td>60</td>\n",
       "      <td>NaN</td>\n",
       "      <td>NaN</td>\n",
       "      <td>NaN</td>\n",
       "      <td>95.25</td>\n",
       "      <td>NaN</td>\n",
       "      <td>NaN</td>\n",
       "      <td>95.25</td>\n",
       "      <td>1</td>\n",
       "      <td>108.29</td>\n",
       "    </tr>\n",
       "    <tr>\n",
       "      <th>4</th>\n",
       "      <td>0</td>\n",
       "      <td>Destiny Dula</td>\n",
       "      <td>F</td>\n",
       "      <td>Raw</td>\n",
       "      <td>18.0</td>\n",
       "      <td>Teen 18-19</td>\n",
       "      <td>63.68</td>\n",
       "      <td>67.5</td>\n",
       "      <td>NaN</td>\n",
       "      <td>NaN</td>\n",
       "      <td>NaN</td>\n",
       "      <td>31.75</td>\n",
       "      <td>NaN</td>\n",
       "      <td>90.72</td>\n",
       "      <td>122.47</td>\n",
       "      <td>1</td>\n",
       "      <td>130.47</td>\n",
       "    </tr>\n",
       "  </tbody>\n",
       "</table>\n",
       "</div>"
      ]
     },
     "execution_count": 21,
     "metadata": {},
     "output_type": "execute_result"
    }
   ],
   "execution_count": 21
  },
  {
   "metadata": {
    "ExecuteTime": {
     "end_time": "2025-05-25T23:56:27.963596Z",
     "start_time": "2025-05-25T23:56:25.893611Z"
    }
   },
   "cell_type": "code",
   "source": [
    "# Exporting CSV Files\n",
    "File.to_csv(\"NewCsv.csv\")"
   ],
   "id": "9e487672e61724ab",
   "outputs": [],
   "execution_count": 30
  },
  {
   "metadata": {},
   "cell_type": "markdown",
   "source": "### Accessing Data\n",
   "id": "6e1a257bb6cd7ad7"
  },
  {
   "metadata": {
    "ExecuteTime": {
     "end_time": "2025-05-25T22:16:36.082527Z",
     "start_time": "2025-05-25T22:16:36.078168Z"
    }
   },
   "cell_type": "code",
   "source": [
    "# First Methode\n",
    "File.Name"
   ],
   "id": "127ef90bf4563651",
   "outputs": [
    {
     "data": {
      "text/plain": [
       "0         Angie Belk Terry\n",
       "1              Dawn Bogart\n",
       "2              Dawn Bogart\n",
       "3              Dawn Bogart\n",
       "4             Destiny Dula\n",
       "                ...       \n",
       "386409     William Barabas\n",
       "386410        Justin Zottl\n",
       "386411       Jake Anderson\n",
       "386412      Jeff Bumanglag\n",
       "386413       Shane Hammock\n",
       "Name: Name, Length: 386414, dtype: object"
      ]
     },
     "execution_count": 23,
     "metadata": {},
     "output_type": "execute_result"
    }
   ],
   "execution_count": 23
  },
  {
   "metadata": {
    "ExecuteTime": {
     "end_time": "2025-05-25T22:18:15.955226Z",
     "start_time": "2025-05-25T22:18:15.950797Z"
    }
   },
   "cell_type": "code",
   "source": [
    "# Second Methode\n",
    "File[\"Name\"][0]"
   ],
   "id": "ed0cf3f387ea7edf",
   "outputs": [
    {
     "data": {
      "text/plain": [
       "'Angie Belk Terry'"
      ]
     },
     "execution_count": 25,
     "metadata": {},
     "output_type": "execute_result"
    }
   ],
   "execution_count": 25
  },
  {
   "metadata": {
    "ExecuteTime": {
     "end_time": "2025-05-25T23:53:50.684565Z",
     "start_time": "2025-05-25T23:53:50.666919Z"
    }
   },
   "cell_type": "code",
   "source": [
    "# iloc ( get data by row can get col as well (index) )\n",
    "File.iloc[0]"
   ],
   "id": "a8d119f99bd3115",
   "outputs": [
    {
     "data": {
      "text/plain": [
       "MeetID                           0\n",
       "Name              Angie Belk Terry\n",
       "Sex                              F\n",
       "Equipment                    Wraps\n",
       "Age                           47.0\n",
       "Division                 Mst 45-49\n",
       "BodyweightKg                  59.6\n",
       "WeightClassKg                   60\n",
       "Squat4Kg                       NaN\n",
       "BestSquatKg                  47.63\n",
       "Bench4Kg                       NaN\n",
       "BestBenchKg                  20.41\n",
       "Deadlift4Kg                    NaN\n",
       "BestDeadliftKg               70.31\n",
       "TotalKg                     138.35\n",
       "Place                            1\n",
       "Wilks                       155.05\n",
       "Name: 0, dtype: object"
      ]
     },
     "execution_count": 27,
     "metadata": {},
     "output_type": "execute_result"
    }
   ],
   "execution_count": 27
  },
  {
   "metadata": {
    "ExecuteTime": {
     "end_time": "2025-05-25T23:55:20.427124Z",
     "start_time": "2025-05-25T23:55:20.412339Z"
    }
   },
   "cell_type": "code",
   "source": [
    "# loc ( same as before (label) )\n",
    "File.loc[0,['Name',\"Age\"]]"
   ],
   "id": "48b01afe50b5a68d",
   "outputs": [
    {
     "data": {
      "text/plain": [
       "Name    Angie Belk Terry\n",
       "Age                 47.0\n",
       "Name: 0, dtype: object"
      ]
     },
     "execution_count": 29,
     "metadata": {},
     "output_type": "execute_result"
    }
   ],
   "execution_count": 29
  },
  {
   "metadata": {},
   "cell_type": "markdown",
   "source": "- Keep in mind that iloc is exclusive while loc is not",
   "id": "e4e8617347bd2472"
  },
  {
   "metadata": {},
   "cell_type": "markdown",
   "source": "- There Exist as well conditionals same as nump where you can display only the satisfied condition lables",
   "id": "6391d36020592629"
  },
  {
   "metadata": {
    "ExecuteTime": {
     "end_time": "2025-05-26T00:03:09.921640Z",
     "start_time": "2025-05-26T00:03:09.915178Z"
    }
   },
   "cell_type": "code",
   "source": [
    "# Example\n",
    "example = File.Age[File.Age <10]\n",
    "example"
   ],
   "id": "8affd82819c348c9",
   "outputs": [
    {
     "data": {
      "text/plain": [
       "817       7.0\n",
       "935       9.0\n",
       "1018      5.0\n",
       "2056      8.0\n",
       "2167      8.0\n",
       "         ... \n",
       "335042    9.0\n",
       "357266    9.0\n",
       "372840    6.0\n",
       "381297    9.0\n",
       "381378    9.0\n",
       "Name: Age, Length: 121, dtype: float64"
      ]
     },
     "execution_count": 37,
     "metadata": {},
     "output_type": "execute_result"
    }
   ],
   "execution_count": 37
  }
 ],
 "metadata": {
  "kernelspec": {
   "display_name": "Python 3",
   "language": "python",
   "name": "python3"
  },
  "language_info": {
   "codemirror_mode": {
    "name": "ipython",
    "version": 2
   },
   "file_extension": ".py",
   "mimetype": "text/x-python",
   "name": "python",
   "nbconvert_exporter": "python",
   "pygments_lexer": "ipython2",
   "version": "2.7.6"
  }
 },
 "nbformat": 4,
 "nbformat_minor": 5
}
