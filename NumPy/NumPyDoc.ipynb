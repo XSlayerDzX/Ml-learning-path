{
 "cells": [
  {
   "metadata": {},
   "cell_type": "markdown",
   "source": [
    "# NumPy NoteBook Made By Abdelmalek Hissous\n",
    "- Description : This is just a documentation about numpy"
   ],
   "id": "fadfe2fc6c3f3c53"
  },
  {
   "metadata": {},
   "cell_type": "markdown",
   "source": "# importing Numpy As np",
   "id": "a30bfc561f4ac82"
  },
  {
   "metadata": {
    "ExecuteTime": {
     "end_time": "2025-05-24T16:31:17.395559Z",
     "start_time": "2025-05-24T16:31:17.205001Z"
    }
   },
   "cell_type": "code",
   "source": "import numpy as np",
   "id": "78ae3f1a790fc4be",
   "outputs": [],
   "execution_count": 4
  },
  {
   "metadata": {},
   "cell_type": "markdown",
   "source": "# The Basics\n",
   "id": "77afcd1e3d8fa64"
  },
  {
   "metadata": {
    "ExecuteTime": {
     "end_time": "2025-05-24T16:31:17.406547Z",
     "start_time": "2025-05-24T16:31:17.401636Z"
    }
   },
   "cell_type": "code",
   "source": [
    "# 1 Dim array\n",
    "a = np.array([1,2,3,4,5])\n",
    "print(a)"
   ],
   "id": "bd4b5fed6ceb99bf",
   "outputs": [
    {
     "name": "stdout",
     "output_type": "stream",
     "text": [
      "[1 2 3 4 5]\n"
     ]
    }
   ],
   "execution_count": 5
  },
  {
   "metadata": {
    "ExecuteTime": {
     "end_time": "2025-05-24T16:31:17.428957Z",
     "start_time": "2025-05-24T16:31:17.424486Z"
    }
   },
   "cell_type": "code",
   "source": [
    "# 2 Dim array\n",
    "b = np.array([[1,2,3,4,5],[6,7,8,9,10]])\n",
    "print(b)"
   ],
   "id": "429f125f316c6ea0",
   "outputs": [
    {
     "name": "stdout",
     "output_type": "stream",
     "text": [
      "[[ 1  2  3  4  5]\n",
      " [ 6  7  8  9 10]]\n"
     ]
    }
   ],
   "execution_count": 6
  },
  {
   "metadata": {
    "ExecuteTime": {
     "end_time": "2025-05-24T16:31:17.460393Z",
     "start_time": "2025-05-24T16:31:17.457459Z"
    }
   },
   "cell_type": "code",
   "source": [
    "# Get Dimension\n",
    "dim = b.ndim\n",
    "print(dim)"
   ],
   "id": "944738b2665a423f",
   "outputs": [
    {
     "name": "stdout",
     "output_type": "stream",
     "text": [
      "2\n"
     ]
    }
   ],
   "execution_count": 7
  },
  {
   "metadata": {
    "ExecuteTime": {
     "end_time": "2025-05-24T16:31:17.479717Z",
     "start_time": "2025-05-24T16:31:17.475424Z"
    }
   },
   "cell_type": "code",
   "source": [
    "# get the shape of the N-Array\n",
    "Shape = b.shape\n",
    "print(Shape)"
   ],
   "id": "93798e3562088514",
   "outputs": [
    {
     "name": "stdout",
     "output_type": "stream",
     "text": [
      "(2, 5)\n"
     ]
    }
   ],
   "execution_count": 8
  },
  {
   "metadata": {
    "ExecuteTime": {
     "end_time": "2025-05-24T16:31:17.501080Z",
     "start_time": "2025-05-24T16:31:17.496459Z"
    }
   },
   "cell_type": "code",
   "source": [
    "# Get the type of the array\n",
    "print(b.dtype)\n",
    "# Change the type of the array to your choice\n",
    "b = np.array([[1,2,3,4,5],[6,7,8,9,10]], dtype=\"int16\")\n",
    "print(b.dtype)"
   ],
   "id": "3c45e1baa6593e5b",
   "outputs": [
    {
     "name": "stdout",
     "output_type": "stream",
     "text": [
      "int64\n",
      "int16\n"
     ]
    }
   ],
   "execution_count": 9
  },
  {
   "metadata": {
    "ExecuteTime": {
     "end_time": "2025-05-24T16:31:17.525171Z",
     "start_time": "2025-05-24T16:31:17.521261Z"
    }
   },
   "cell_type": "code",
   "source": [
    "# Each Element size\n",
    "print(b.itemsize)"
   ],
   "id": "da13d3b7ab3b77d1",
   "outputs": [
    {
     "name": "stdout",
     "output_type": "stream",
     "text": [
      "2\n"
     ]
    }
   ],
   "execution_count": 10
  },
  {
   "metadata": {
    "ExecuteTime": {
     "end_time": "2025-05-24T16:31:17.627908Z",
     "start_time": "2025-05-24T16:31:17.624321Z"
    }
   },
   "cell_type": "code",
   "source": [
    "# Total Size\n",
    "print(b.nbytes)"
   ],
   "id": "146ebe6b8360e06f",
   "outputs": [
    {
     "name": "stdout",
     "output_type": "stream",
     "text": [
      "20\n"
     ]
    }
   ],
   "execution_count": 11
  },
  {
   "metadata": {},
   "cell_type": "markdown",
   "source": "# Accessing Elements And Changing Them",
   "id": "ddcd919fb06b6c41"
  },
  {
   "metadata": {
    "ExecuteTime": {
     "end_time": "2025-05-24T16:31:17.723036Z",
     "start_time": "2025-05-24T16:31:17.718563Z"
    }
   },
   "cell_type": "code",
   "source": [
    "# 2d Array\n",
    "a = np.array([[1,2,3,4,5,6],[7,8,9,10,11,12]])\n",
    "print(a)"
   ],
   "id": "5118edc4f195d682",
   "outputs": [
    {
     "name": "stdout",
     "output_type": "stream",
     "text": [
      "[[ 1  2  3  4  5  6]\n",
      " [ 7  8  9 10 11 12]]\n"
     ]
    }
   ],
   "execution_count": 12
  },
  {
   "metadata": {
    "ExecuteTime": {
     "end_time": "2025-05-24T16:31:17.748701Z",
     "start_time": "2025-05-24T16:31:17.745351Z"
    }
   },
   "cell_type": "code",
   "source": [
    "# Accessing an Element ( Array[row,col] ) ( Python index starts from 0 )\n",
    "print(a[1,0])"
   ],
   "id": "ad8bc011e8842e9c",
   "outputs": [
    {
     "name": "stdout",
     "output_type": "stream",
     "text": [
      "7\n"
     ]
    }
   ],
   "execution_count": 13
  },
  {
   "metadata": {
    "ExecuteTime": {
     "end_time": "2025-05-24T16:31:17.787049Z",
     "start_time": "2025-05-24T16:31:17.783410Z"
    }
   },
   "cell_type": "code",
   "source": [
    "# Extracting a row\n",
    "print(a[0,:])"
   ],
   "id": "6c190b1f932b369a",
   "outputs": [
    {
     "name": "stdout",
     "output_type": "stream",
     "text": [
      "[1 2 3 4 5 6]\n"
     ]
    }
   ],
   "execution_count": 14
  },
  {
   "metadata": {
    "ExecuteTime": {
     "end_time": "2025-05-24T16:31:46.692568Z",
     "start_time": "2025-05-24T16:31:46.688650Z"
    }
   },
   "cell_type": "code",
   "source": [
    "# Extracting a col\n",
    "print(a[:, 1])"
   ],
   "id": "24b2a7aaf7887f6e",
   "outputs": [
    {
     "name": "stdout",
     "output_type": "stream",
     "text": [
      "[2 8]\n"
     ]
    }
   ],
   "execution_count": 15
  },
  {
   "metadata": {
    "ExecuteTime": {
     "end_time": "2025-05-24T16:33:45.600791Z",
     "start_time": "2025-05-24T16:33:45.597035Z"
    }
   },
   "cell_type": "code",
   "source": [
    "# Fancy way to get data row example ( Array[row, start:end:step] )\n",
    "print(a[0,1:4:2])"
   ],
   "id": "3ab3bc489faa3a13",
   "outputs": [
    {
     "name": "stdout",
     "output_type": "stream",
     "text": [
      "[2 4]\n"
     ]
    }
   ],
   "execution_count": 16
  },
  {
   "metadata": {
    "ExecuteTime": {
     "end_time": "2025-05-24T16:39:13.911613Z",
     "start_time": "2025-05-24T16:39:13.907666Z"
    }
   },
   "cell_type": "code",
   "source": [
    "# Changing Data in An 2d array\n",
    "a[0,0] = 0\n",
    "print(a)"
   ],
   "id": "9206db2a79bfed5a",
   "outputs": [
    {
     "name": "stdout",
     "output_type": "stream",
     "text": [
      "[[ 0  2  3  4  5  6]\n",
      " [ 7  8  9 10 11 12]]\n"
     ]
    }
   ],
   "execution_count": 20
  },
  {
   "metadata": {
    "ExecuteTime": {
     "end_time": "2025-05-24T16:40:24.374843Z",
     "start_time": "2025-05-24T16:40:24.371469Z"
    }
   },
   "cell_type": "code",
   "source": [
    "# Another way to change data (by row)\n",
    "a[1,2:4] = [55,66]\n",
    "print(a)"
   ],
   "id": "dbd7e1e5f4dac324",
   "outputs": [
    {
     "name": "stdout",
     "output_type": "stream",
     "text": [
      "[[ 0  2  3  4  5  6]\n",
      " [ 7  8 55 66 11 12]]\n"
     ]
    }
   ],
   "execution_count": 21
  },
  {
   "metadata": {
    "ExecuteTime": {
     "end_time": "2025-05-24T16:42:56.799816Z",
     "start_time": "2025-05-24T16:42:56.796764Z"
    }
   },
   "cell_type": "code",
   "source": [
    "# By col\n",
    "a[:,2] = [22,33]\n",
    "print(a)"
   ],
   "id": "b6a9982512a92f67",
   "outputs": [
    {
     "name": "stdout",
     "output_type": "stream",
     "text": [
      "[[ 0  2 22  4  5  6]\n",
      " [ 7  8 33 66 11 12]]\n"
     ]
    }
   ],
   "execution_count": 22
  },
  {
   "metadata": {
    "ExecuteTime": {
     "end_time": "2025-05-24T16:56:35.488337Z",
     "start_time": "2025-05-24T16:56:35.484206Z"
    }
   },
   "cell_type": "code",
   "source": [
    "# 3d array example\n",
    "c = np.array([[[1,2],[6,7]],[[8,9],[10,11]]])\n",
    "print(c)"
   ],
   "id": "c82ba613217653d3",
   "outputs": [
    {
     "name": "stdout",
     "output_type": "stream",
     "text": [
      "[[[ 1  2]\n",
      "  [ 6  7]]\n",
      "\n",
      " [[ 8  9]\n",
      "  [10 11]]]\n"
     ]
    }
   ],
   "execution_count": 24
  },
  {
   "metadata": {
    "ExecuteTime": {
     "end_time": "2025-05-24T16:58:56.173259Z",
     "start_time": "2025-05-24T16:58:56.169198Z"
    }
   },
   "cell_type": "code",
   "source": [
    "# replacing a col\n",
    "c[1,:,1] = [4,3]\n",
    "print(c[1,:,1])"
   ],
   "id": "d8977e3084dec435",
   "outputs": [
    {
     "name": "stdout",
     "output_type": "stream",
     "text": [
      "[4 3]\n"
     ]
    }
   ],
   "execution_count": 26
  },
  {
   "metadata": {},
   "cell_type": "markdown",
   "source": "# Array Types",
   "id": "e1f7695e842b630a"
  },
  {
   "metadata": {
    "ExecuteTime": {
     "end_time": "2025-05-24T17:10:12.485791Z",
     "start_time": "2025-05-24T17:10:12.482743Z"
    }
   },
   "cell_type": "code",
   "source": [
    "# Zero Array\n",
    "a = np.zeros([3,4])\n",
    "print(a)"
   ],
   "id": "20cba9f748941181",
   "outputs": [
    {
     "name": "stdout",
     "output_type": "stream",
     "text": [
      "[[0. 0. 0. 0.]\n",
      " [0. 0. 0. 0.]\n",
      " [0. 0. 0. 0.]]\n"
     ]
    }
   ],
   "execution_count": 29
  },
  {
   "metadata": {
    "ExecuteTime": {
     "end_time": "2025-05-24T17:19:13.590450Z",
     "start_time": "2025-05-24T17:19:13.587273Z"
    }
   },
   "cell_type": "code",
   "source": [
    "# Ones Array\n",
    "a = np.ones([3,4])\n",
    "print(a)"
   ],
   "id": "3804bd622de7b5a4",
   "outputs": [
    {
     "name": "stdout",
     "output_type": "stream",
     "text": [
      "[[1. 1. 1. 1.]\n",
      " [1. 1. 1. 1.]\n",
      " [1. 1. 1. 1.]]\n"
     ]
    }
   ],
   "execution_count": 66
  },
  {
   "metadata": {
    "ExecuteTime": {
     "end_time": "2025-05-24T17:19:26.335692Z",
     "start_time": "2025-05-24T17:19:26.332905Z"
    }
   },
   "cell_type": "code",
   "source": [
    "# Costum value array\n",
    "a = np.full(a.shape, 4)\n",
    "print(a)"
   ],
   "id": "8a1162a730e9de82",
   "outputs": [
    {
     "name": "stdout",
     "output_type": "stream",
     "text": [
      "[[4 4 4 4]\n",
      " [4 4 4 4]\n",
      " [4 4 4 4]]\n"
     ]
    }
   ],
   "execution_count": 68
  },
  {
   "metadata": {
    "ExecuteTime": {
     "end_time": "2025-05-24T17:19:29.688405Z",
     "start_time": "2025-05-24T17:19:29.684807Z"
    }
   },
   "cell_type": "code",
   "source": [
    "# random value (0-1)\n",
    "a = np.random.rand(3,4)\n",
    "print(a)"
   ],
   "id": "831cc4c183aac340",
   "outputs": [
    {
     "name": "stdout",
     "output_type": "stream",
     "text": [
      "[[0.31032345 0.66433008 0.84727855 0.96632713]\n",
      " [0.1841333  0.26632254 0.59302788 0.70900121]\n",
      " [0.37363191 0.40165594 0.25151486 0.16175156]]\n"
     ]
    }
   ],
   "execution_count": 69
  },
  {
   "metadata": {
    "ExecuteTime": {
     "end_time": "2025-05-24T17:15:25.016816Z",
     "start_time": "2025-05-24T17:15:25.012773Z"
    }
   },
   "cell_type": "code",
   "source": [
    "# random integer\n",
    "a = np.random.randint(4,8,size=(3,4))\n",
    "print(a)"
   ],
   "id": "de7ea1510b591d53",
   "outputs": [
    {
     "name": "stdout",
     "output_type": "stream",
     "text": [
      "[[6 6 7 7]\n",
      " [7 6 5 4]\n",
      " [7 4 6 5]]\n"
     ]
    }
   ],
   "execution_count": 56
  },
  {
   "metadata": {
    "ExecuteTime": {
     "end_time": "2025-05-24T17:17:58.147704Z",
     "start_time": "2025-05-24T17:17:58.142674Z"
    }
   },
   "cell_type": "code",
   "source": [
    "# repeat array\n",
    "a = np.array([[1,2,3,4,5]])\n",
    "b = np.repeat(a, 3, axis=0)\n",
    "print(b)"
   ],
   "id": "d95af4d75c3b166",
   "outputs": [
    {
     "name": "stdout",
     "output_type": "stream",
     "text": [
      "[[1 2 3 4 5]\n",
      " [1 2 3 4 5]\n",
      " [1 2 3 4 5]]\n"
     ]
    }
   ],
   "execution_count": 62
  },
  {
   "metadata": {
    "ExecuteTime": {
     "end_time": "2025-05-24T17:11:22.329233Z",
     "start_time": "2025-05-24T17:11:22.325923Z"
    }
   },
   "cell_type": "code",
   "source": [
    "# Identity Array\n",
    "a = np.identity(3)\n",
    "print(a)"
   ],
   "id": "e6948a05a32b8e7f",
   "outputs": [
    {
     "name": "stdout",
     "output_type": "stream",
     "text": [
      "[[1. 0. 0.]\n",
      " [0. 1. 0.]\n",
      " [0. 0. 1.]]\n"
     ]
    }
   ],
   "execution_count": 34
  },
  {
   "metadata": {},
   "cell_type": "markdown",
   "source": [
    "# Example :\n",
    "- Making a 2d array using only the array types"
   ],
   "id": "d9bfe8613969db96"
  },
  {
   "metadata": {
    "ExecuteTime": {
     "end_time": "2025-05-24T17:23:39.404104Z",
     "start_time": "2025-05-24T17:23:39.400496Z"
    }
   },
   "cell_type": "code",
   "source": [
    "e = np.ones([5,5])\n",
    "print(e)"
   ],
   "id": "6e94fb13437e2681",
   "outputs": [
    {
     "name": "stdout",
     "output_type": "stream",
     "text": [
      "[[1. 1. 1. 1. 1.]\n",
      " [1. 1. 1. 1. 1.]\n",
      " [1. 1. 1. 1. 1.]\n",
      " [1. 1. 1. 1. 1.]\n",
      " [1. 1. 1. 1. 1.]]\n"
     ]
    }
   ],
   "execution_count": 70
  },
  {
   "metadata": {
    "ExecuteTime": {
     "end_time": "2025-05-24T17:25:46.657047Z",
     "start_time": "2025-05-24T17:25:46.653369Z"
    }
   },
   "cell_type": "code",
   "source": [
    "e[1:4,1:4] = np.zeros([3,3])\n",
    "print(e)"
   ],
   "id": "34db60e6f7dc262b",
   "outputs": [
    {
     "name": "stdout",
     "output_type": "stream",
     "text": [
      "[[1. 1. 1. 1. 1.]\n",
      " [1. 0. 0. 0. 1.]\n",
      " [1. 0. 0. 0. 1.]\n",
      " [1. 0. 0. 0. 1.]\n",
      " [1. 1. 1. 1. 1.]]\n"
     ]
    }
   ],
   "execution_count": 72
  },
  {
   "metadata": {
    "ExecuteTime": {
     "end_time": "2025-05-24T17:26:26.791427Z",
     "start_time": "2025-05-24T17:26:26.788045Z"
    }
   },
   "cell_type": "code",
   "source": [
    "e[2,2] = 9\n",
    "print(e)"
   ],
   "id": "dd63976b8975fc81",
   "outputs": [
    {
     "name": "stdout",
     "output_type": "stream",
     "text": [
      "[[1. 1. 1. 1. 1.]\n",
      " [1. 0. 0. 0. 1.]\n",
      " [1. 0. 9. 0. 1.]\n",
      " [1. 0. 0. 0. 1.]\n",
      " [1. 1. 1. 1. 1.]]\n"
     ]
    }
   ],
   "execution_count": 73
  },
  {
   "metadata": {},
   "cell_type": "markdown",
   "source": "- we couldev as well made the while 5x5 filled with ones then build another array with 9 in the middel and replace in the big array",
   "id": "efba4c01ae1d1b53"
  },
  {
   "metadata": {},
   "cell_type": "markdown",
   "source": "#### IMPORTENT : IF YOU WANT TO COPY AN ARRAY USE THE METHODE .copy() UNLESS YOU WANT THE ABBILITY TO CHANGE THE ORIGNIAL FROM THE COPY\n",
   "id": "cef1ab197162bf15"
  },
  {
   "metadata": {},
   "cell_type": "markdown",
   "source": "- Just Learned That you can print just by typing the variable name :)",
   "id": "f03c63c80f878946"
  },
  {
   "metadata": {},
   "cell_type": "markdown",
   "source": "# Mathmatics",
   "id": "2bae1bf6e11f98a5"
  },
  {
   "metadata": {
    "ExecuteTime": {
     "end_time": "2025-05-24T19:12:48.798633Z",
     "start_time": "2025-05-24T19:12:48.792776Z"
    }
   },
   "cell_type": "code",
   "source": [
    "a = np.array([1,2,3,4])\n",
    "a"
   ],
   "id": "30bb990cb33d33aa",
   "outputs": [
    {
     "data": {
      "text/plain": [
       "array([1, 2, 3, 4])"
      ]
     },
     "execution_count": 81,
     "metadata": {},
     "output_type": "execute_result"
    }
   ],
   "execution_count": 81
  },
  {
   "metadata": {},
   "cell_type": "markdown",
   "source": "# Basic Operations",
   "id": "257a31438eb3cc07"
  },
  {
   "metadata": {
    "ExecuteTime": {
     "end_time": "2025-05-24T19:12:39.664441Z",
     "start_time": "2025-05-24T19:12:39.643678Z"
    }
   },
   "cell_type": "code",
   "source": [
    "# Element wise addition\n",
    "b = a.copy()\n",
    "a+b"
   ],
   "id": "2b8e5e230647da74",
   "outputs": [
    {
     "data": {
      "text/plain": [
       "array([2, 4, 6, 8])"
      ]
     },
     "execution_count": 80,
     "metadata": {},
     "output_type": "execute_result"
    }
   ],
   "execution_count": 80
  },
  {
   "metadata": {
    "ExecuteTime": {
     "end_time": "2025-05-24T19:14:46.840470Z",
     "start_time": "2025-05-24T19:14:46.835969Z"
    }
   },
   "cell_type": "code",
   "source": [
    "# Multplication\n",
    "a * 2"
   ],
   "id": "7a8d8be7e63a80d4",
   "outputs": [
    {
     "data": {
      "text/plain": [
       "array([2, 4, 6, 8])"
      ]
     },
     "execution_count": 83,
     "metadata": {},
     "output_type": "execute_result"
    }
   ],
   "execution_count": 83
  },
  {
   "metadata": {
    "ExecuteTime": {
     "end_time": "2025-05-24T19:16:37.458261Z",
     "start_time": "2025-05-24T19:16:37.452665Z"
    }
   },
   "cell_type": "code",
   "source": [
    "# Div\n",
    "a / 2"
   ],
   "id": "68c0ae6074204cd0",
   "outputs": [
    {
     "data": {
      "text/plain": [
       "array([0.5, 1. , 1.5, 2. ])"
      ]
     },
     "execution_count": 88,
     "metadata": {},
     "output_type": "execute_result"
    }
   ],
   "execution_count": 88
  },
  {
   "metadata": {
    "ExecuteTime": {
     "end_time": "2025-05-24T19:15:05.900102Z",
     "start_time": "2025-05-24T19:15:05.895659Z"
    }
   },
   "cell_type": "code",
   "source": [
    "# Power\n",
    "a ** 2"
   ],
   "id": "c50c4ee063915429",
   "outputs": [
    {
     "data": {
      "text/plain": [
       "array([ 1,  4,  9, 16])"
      ]
     },
     "execution_count": 85,
     "metadata": {},
     "output_type": "execute_result"
    }
   ],
   "execution_count": 85
  },
  {
   "metadata": {
    "ExecuteTime": {
     "end_time": "2025-05-24T19:15:55.928093Z",
     "start_time": "2025-05-24T19:15:55.924182Z"
    }
   },
   "cell_type": "code",
   "source": [
    "# Sin to each element\n",
    "np.sin(a)"
   ],
   "id": "3ad6179b0e203cb4",
   "outputs": [
    {
     "data": {
      "text/plain": [
       "array([ 0.84147098,  0.90929743,  0.14112001, -0.7568025 ])"
      ]
     },
     "execution_count": 87,
     "metadata": {},
     "output_type": "execute_result"
    }
   ],
   "execution_count": 87
  },
  {
   "metadata": {},
   "cell_type": "markdown",
   "source": "### LINEAR ALGEBRA ( FUN STUFF ):)\n",
   "id": "7be3ac491058cf57"
  },
  {
   "metadata": {
    "ExecuteTime": {
     "end_time": "2025-05-24T19:29:23.149928Z",
     "start_time": "2025-05-24T19:29:23.145545Z"
    }
   },
   "cell_type": "code",
   "source": [
    "a = np.array([[1,2],[3,4],[5,6]])\n",
    "b = np.ones((2,3))\n",
    "print(a)\n",
    "print(b)\n"
   ],
   "id": "67ba9d1a8564694b",
   "outputs": [
    {
     "name": "stdout",
     "output_type": "stream",
     "text": [
      "[[1 2]\n",
      " [3 4]\n",
      " [5 6]]\n",
      "[[1. 1. 1.]\n",
      " [1. 1. 1.]]\n"
     ]
    }
   ],
   "execution_count": 104
  },
  {
   "metadata": {
    "ExecuteTime": {
     "end_time": "2025-05-24T19:30:58.618674Z",
     "start_time": "2025-05-24T19:30:58.614350Z"
    }
   },
   "cell_type": "code",
   "source": [
    "# Matrix mult\n",
    "print(np.matmul(a, b))"
   ],
   "id": "26d1bc7df530671d",
   "outputs": [
    {
     "name": "stdout",
     "output_type": "stream",
     "text": [
      "[[ 3.  3.  3.]\n",
      " [ 7.  7.  7.]\n",
      " [11. 11. 11.]]\n"
     ]
    }
   ],
   "execution_count": 105
  },
  {
   "metadata": {
    "ExecuteTime": {
     "end_time": "2025-05-24T19:33:09.274401Z",
     "start_time": "2025-05-24T19:33:09.266971Z"
    }
   },
   "cell_type": "code",
   "source": [
    "# Determinant\n",
    "c = np.identity(3)\n",
    "np.linalg.det(c)"
   ],
   "id": "360729137e06be77",
   "outputs": [
    {
     "data": {
      "text/plain": [
       "np.float64(1.0)"
      ]
     },
     "execution_count": 109,
     "metadata": {},
     "output_type": "execute_result"
    }
   ],
   "execution_count": 109
  },
  {
   "metadata": {
    "ExecuteTime": {
     "end_time": "2025-05-24T19:35:03.711018Z",
     "start_time": "2025-05-24T19:35:03.707243Z"
    }
   },
   "cell_type": "code",
   "source": [
    "# Trace ( the sum of the diagonal elements\n",
    "print(np.trace(c))"
   ],
   "id": "996949c73a842855",
   "outputs": [
    {
     "name": "stdout",
     "output_type": "stream",
     "text": [
      "3.0\n"
     ]
    }
   ],
   "execution_count": 110
  },
  {
   "metadata": {
    "ExecuteTime": {
     "end_time": "2025-05-24T19:46:15.231725Z",
     "start_time": "2025-05-24T19:46:15.227759Z"
    }
   },
   "cell_type": "code",
   "source": [
    "# Inverse\n",
    "c = np.random.randint(2,7, size=(3,3))\n",
    "print(c)\n",
    "print(np.linalg.inv(c))"
   ],
   "id": "58c3b57528082e82",
   "outputs": [
    {
     "name": "stdout",
     "output_type": "stream",
     "text": [
      "[[4 4 2]\n",
      " [6 4 4]\n",
      " [2 2 6]]\n",
      "[[-0.4  0.5 -0.2]\n",
      " [ 0.7 -0.5  0.1]\n",
      " [-0.1  0.   0.2]]\n"
     ]
    }
   ],
   "execution_count": 123
  },
  {
   "metadata": {
    "ExecuteTime": {
     "end_time": "2025-05-24T19:47:07.224652Z",
     "start_time": "2025-05-24T19:47:07.221105Z"
    }
   },
   "cell_type": "code",
   "source": [
    "# Norm (absolute value of a vector or matrix)\n",
    "norm = np.linalg.norm(c)\n",
    "print(norm)"
   ],
   "id": "9e8c6afb4dfa0cee",
   "outputs": [
    {
     "name": "stdout",
     "output_type": "stream",
     "text": [
      "12.165525060596439\n"
     ]
    }
   ],
   "execution_count": 124
  },
  {
   "metadata": {
    "ExecuteTime": {
     "end_time": "2025-05-24T19:51:49.052532Z",
     "start_time": "2025-05-24T19:51:49.047409Z"
    }
   },
   "cell_type": "code",
   "source": [
    "# Eigenvalues and Eigenvectors ( An eigenvector is a special vector that dosebt change direction under a transformation it only gets stretched or shrunk\n",
    "#The eigenvalue tells you how much it gets stretched or shrunk)\n",
    "a = np.array([[2,0],[0,5]])\n",
    "eigenvals, eigenvectors = np.linalg.eig(a)\n",
    "print(eigenvals)\n",
    "print(eigenvectors)"
   ],
   "id": "1a9eaf2f7dde0da8",
   "outputs": [
    {
     "name": "stdout",
     "output_type": "stream",
     "text": [
      "[2. 5.]\n",
      "[[1. 0.]\n",
      " [0. 1.]]\n"
     ]
    }
   ],
   "execution_count": 126
  },
  {
   "metadata": {
    "ExecuteTime": {
     "end_time": "2025-05-24T19:53:26.037534Z",
     "start_time": "2025-05-24T19:53:26.030827Z"
    }
   },
   "cell_type": "code",
   "source": [
    "# Rank\n",
    "print(np.linalg.matrix_rank(a))\n"
   ],
   "id": "8233d7fe600cf14",
   "outputs": [
    {
     "name": "stdout",
     "output_type": "stream",
     "text": [
      "2\n"
     ]
    }
   ],
   "execution_count": 127
  },
  {
   "metadata": {
    "ExecuteTime": {
     "end_time": "2025-05-24T19:55:46.687222Z",
     "start_time": "2025-05-24T19:55:46.681725Z"
    }
   },
   "cell_type": "code",
   "source": [
    "# Calculating Ax = b\n",
    "b = np.array([5,4])\n",
    "x = np.linalg.solve(a,b)\n",
    "print(x)"
   ],
   "id": "63536fc2f05fc0c7",
   "outputs": [
    {
     "name": "stdout",
     "output_type": "stream",
     "text": [
      "[2.5 0.8]\n"
     ]
    }
   ],
   "execution_count": 128
  },
  {
   "metadata": {},
   "cell_type": "markdown",
   "source": "# Statistics\n",
   "id": "18cb960eb234720a"
  },
  {
   "metadata": {
    "ExecuteTime": {
     "end_time": "2025-05-24T20:54:32.226656Z",
     "start_time": "2025-05-24T20:54:32.222380Z"
    }
   },
   "cell_type": "code",
   "source": [
    "a = np.array([[1,2,3],[4,5,6]])\n",
    "a"
   ],
   "id": "c7dd5004246bd41c",
   "outputs": [
    {
     "data": {
      "text/plain": [
       "array([[1, 2, 3],\n",
       "       [4, 5, 6]])"
      ]
     },
     "execution_count": 140,
     "metadata": {},
     "output_type": "execute_result"
    }
   ],
   "execution_count": 140
  },
  {
   "metadata": {
    "ExecuteTime": {
     "end_time": "2025-05-24T20:55:05.166169Z",
     "start_time": "2025-05-24T20:55:05.161957Z"
    }
   },
   "cell_type": "code",
   "source": [
    "# Min (You can specify axis 0 to work on col 1 for row)\n",
    "a.min(axis=0)"
   ],
   "id": "fc5ddc6278c33a6b",
   "outputs": [
    {
     "data": {
      "text/plain": [
       "array([1, 2, 3])"
      ]
     },
     "execution_count": 141,
     "metadata": {},
     "output_type": "execute_result"
    }
   ],
   "execution_count": 141
  },
  {
   "metadata": {
    "ExecuteTime": {
     "end_time": "2025-05-24T20:56:20.236470Z",
     "start_time": "2025-05-24T20:56:20.231993Z"
    }
   },
   "cell_type": "code",
   "source": [
    "# Max (You can specify axis 0 to work on col 1 for row)\n",
    "a.max(axis=0)"
   ],
   "id": "2c4abeb905647e64",
   "outputs": [
    {
     "data": {
      "text/plain": [
       "array([4, 5, 6])"
      ]
     },
     "execution_count": 142,
     "metadata": {},
     "output_type": "execute_result"
    }
   ],
   "execution_count": 142
  },
  {
   "metadata": {
    "ExecuteTime": {
     "end_time": "2025-05-24T20:56:41.996722Z",
     "start_time": "2025-05-24T20:56:41.992565Z"
    }
   },
   "cell_type": "code",
   "source": [
    "# Sum\n",
    "a.sum()"
   ],
   "id": "e49589c251e05678",
   "outputs": [
    {
     "data": {
      "text/plain": [
       "np.int64(21)"
      ]
     },
     "execution_count": 143,
     "metadata": {},
     "output_type": "execute_result"
    }
   ],
   "execution_count": 143
  },
  {
   "metadata": {},
   "cell_type": "markdown",
   "source": "# ReShaping Arrays",
   "id": "393d0ae5b3a4c568"
  },
  {
   "metadata": {
    "ExecuteTime": {
     "end_time": "2025-05-24T21:03:44.227958Z",
     "start_time": "2025-05-24T21:03:44.224430Z"
    }
   },
   "cell_type": "code",
   "source": [
    "a = np.array([[1,2,3],[4,5,6]])\n",
    "print(a)"
   ],
   "id": "d54c15d93d8e3ed8",
   "outputs": [
    {
     "name": "stdout",
     "output_type": "stream",
     "text": [
      "[[1 2 3]\n",
      " [4 5 6]]\n"
     ]
    }
   ],
   "execution_count": 156
  },
  {
   "metadata": {
    "ExecuteTime": {
     "end_time": "2025-05-24T21:03:38.441736Z",
     "start_time": "2025-05-24T21:03:38.438147Z"
    }
   },
   "cell_type": "code",
   "source": [
    "# Changing the Shape Of an Array ( the new shape must have the same number of elements of the original array )\n",
    "print(a.reshape(1,6))"
   ],
   "id": "9df6858107a2fbae",
   "outputs": [
    {
     "name": "stdout",
     "output_type": "stream",
     "text": [
      "[[1 2 3 4 5 6]]\n"
     ]
    }
   ],
   "execution_count": 155
  },
  {
   "metadata": {
    "ExecuteTime": {
     "end_time": "2025-05-24T21:04:50.065663Z",
     "start_time": "2025-05-24T21:04:50.062195Z"
    }
   },
   "cell_type": "code",
   "source": [
    "# Vertically Stacking Vectors or Matrices\n",
    "a = np.array([1,2,3])\n",
    "b = np.array([4,5,6])\n",
    "print(np.vstack([a,b]))\n"
   ],
   "id": "b841193ab1679e72",
   "outputs": [
    {
     "name": "stdout",
     "output_type": "stream",
     "text": [
      "[[1 2 3]\n",
      " [4 5 6]]\n"
     ]
    }
   ],
   "execution_count": 158
  },
  {
   "metadata": {
    "ExecuteTime": {
     "end_time": "2025-05-24T21:05:58.020108Z",
     "start_time": "2025-05-24T21:05:58.016582Z"
    }
   },
   "cell_type": "code",
   "source": [
    "# Horizontally Stacking Vectors or Matrices\n",
    "a = np.full((2,2),3)\n",
    "b = np.full((2,2),2)\n",
    "print(np.hstack([a,b]))"
   ],
   "id": "3c995805f1e7ccd1",
   "outputs": [
    {
     "name": "stdout",
     "output_type": "stream",
     "text": [
      "[[3 3 2 2]\n",
      " [3 3 2 2]]\n"
     ]
    }
   ],
   "execution_count": 160
  },
  {
   "metadata": {},
   "cell_type": "markdown",
   "source": "# Usefull Stuff",
   "id": "e3facfb615a8382a"
  },
  {
   "metadata": {
    "ExecuteTime": {
     "end_time": "2025-05-24T22:37:50.613369Z",
     "start_time": "2025-05-24T22:37:50.609642Z"
    }
   },
   "cell_type": "code",
   "source": [
    "# Loading Data From A File\n",
    "data = np.genfromtxt('../../data/text.txt', delimiter=',')\n",
    "data = data.astype(\"int32\")\n",
    "print(data)"
   ],
   "id": "c9b77856c3d16161",
   "outputs": [
    {
     "name": "stdout",
     "output_type": "stream",
     "text": [
      "[[ 57 132  89  12 178   6 199  43  90 154]\n",
      " [ 27  73 141 195   8 166  34 101  60   2]\n",
      " [149  37 117 200  11  75 163  93  19 123]]\n"
     ]
    }
   ],
   "execution_count": 168
  },
  {
   "metadata": {},
   "cell_type": "markdown",
   "source": "# Masking And Advanced Indexing\n",
   "id": "ed5305f8a36f3c9b"
  },
  {
   "metadata": {
    "ExecuteTime": {
     "end_time": "2025-05-24T22:39:37.817231Z",
     "start_time": "2025-05-24T22:39:37.813092Z"
    }
   },
   "cell_type": "code",
   "source": "print(data > 50)",
   "id": "d7e7b76c1e8092ff",
   "outputs": [
    {
     "name": "stdout",
     "output_type": "stream",
     "text": [
      "[[ True  True  True False  True False  True False  True  True]\n",
      " [False  True  True  True False  True False  True  True False]\n",
      " [ True False  True  True False  True  True  True False  True]]\n"
     ]
    }
   ],
   "execution_count": 171
  },
  {
   "metadata": {
    "ExecuteTime": {
     "end_time": "2025-05-24T22:45:19.014107Z",
     "start_time": "2025-05-24T22:45:19.010073Z"
    }
   },
   "cell_type": "code",
   "source": [
    "# You Can get the values that satisfies the condition (you can index with a list in numpy if it meets your condition)\n",
    "# We can also use axis = 0 or 1 to check by row or by col ( 0 = col , 1 = row )\n",
    "print(data[data > 50])\n",
    "print(np.any(data >195, axis=1))"
   ],
   "id": "bfdcfcd312e469a7",
   "outputs": [
    {
     "name": "stdout",
     "output_type": "stream",
     "text": [
      "[ 57 132  89 178 199  90 154  73 141 195 166 101  60 149 117 200  75 163\n",
      "  93 123]\n",
      "[ True False  True]\n"
     ]
    }
   ],
   "execution_count": 183
  },
  {
   "metadata": {
    "ExecuteTime": {
     "end_time": "2025-05-24T22:47:34.583689Z",
     "start_time": "2025-05-24T22:47:34.580296Z"
    }
   },
   "cell_type": "code",
   "source": "print(((data > 50) & (data < 100)))",
   "id": "bef2a879d93f40b2",
   "outputs": [
    {
     "name": "stdout",
     "output_type": "stream",
     "text": [
      "[[ True False  True False False False False False  True False]\n",
      " [False  True False False False False False False  True False]\n",
      " [False False False False False  True False  True False False]]\n"
     ]
    }
   ],
   "execution_count": 185
  },
  {
   "metadata": {},
   "cell_type": "markdown",
   "source": [
    "### IF There Is Anything Wrong In Here Please Let Me know\n",
    "### Ill Be Adding More Commands Soon As Soon As I Learn Them"
   ],
   "id": "ea9712532c40b1d3"
  },
  {
   "metadata": {},
   "cell_type": "code",
   "outputs": [],
   "execution_count": null,
   "source": "",
   "id": "b4958009ee668593"
  }
 ],
 "metadata": {
  "kernelspec": {
   "display_name": "Python 3",
   "language": "python",
   "name": "python3"
  },
  "language_info": {
   "codemirror_mode": {
    "name": "ipython",
    "version": 2
   },
   "file_extension": ".py",
   "mimetype": "text/x-python",
   "name": "python",
   "nbconvert_exporter": "python",
   "pygments_lexer": "ipython2",
   "version": "2.7.6"
  }
 },
 "nbformat": 4,
 "nbformat_minor": 5
}
